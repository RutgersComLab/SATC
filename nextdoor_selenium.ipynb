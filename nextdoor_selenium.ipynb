{
 "cells": [
  {
   "cell_type": "code",
   "execution_count": 1,
   "metadata": {},
   "outputs": [],
   "source": [
    "from selenium import webdriver\n",
    "from selenium.webdriver.common.by import By\n",
    "from selenium.webdriver.support.ui import WebDriverWait\n",
    "from selenium.webdriver.support import expected_conditions as EC\n",
    "from time import sleep"
   ]
  },
  {
   "cell_type": "code",
   "execution_count": null,
   "metadata": {},
   "outputs": [],
   "source": [
    "driver = webdriver.Chrome()\n",
    "n = 100\n",
    "collected_posts = 0\n",
    "\n",
    "driver.get('https://www.nextdoor.com/news_feed/')\n",
    "\n",
    "email_input = WebDriverWait(driver, 10).until(\n",
    "    EC.presence_of_element_located((By.ID, 'id_email'))\n",
    ")\n",
    "email_input.send_keys('email_here')\n",
    "\n",
    "password_input = WebDriverWait(driver, 10).until(\n",
    "    EC.presence_of_element_located((By.ID, 'id_password'))\n",
    ")\n",
    "password_input.send_keys('password_here]')\n",
    "\n",
    "login_button = driver.find_element(By.ID, 'signin_button')\n",
    "login_button.click()\n",
    "\n",
    "feed_container = WebDriverWait(driver, 30).until(EC.presence_of_element_located((By.CLASS_NAME, 'feed-container')))\n",
    "\n",
    "posts_data = []\n",
    "\n",
    "\n",
    "post_containers = feed_container.find_elements(By.CLASS_NAME, 'cee-media-body')\n",
    "\n",
    "\n",
    "for post in post_containers:\n",
    "    mini_profiles = post.find_elements(By.CSS_SELECTOR, '[data-testid=\"mini-profile-wrapper\"]')\n",
    "    if len(mini_profiles) >= 2:\n",
    "        author_name_element = mini_profiles[1].find_element(By.TAG_NAME, 'a')\n",
    "        author_name = author_name_element.text\n",
    "    else:\n",
    "        author_name = \"Unknown\"\n",
    "\n",
    "    content_element = post.find_element(By.CLASS_NAME, 'Linkify')\n",
    "    content = content_element.text\n",
    "\n",
    "    posts_data.append({'author': author_name, 'content': content})\n",
    "\n",
    "driver.quit()\n",
    "\n",
    "for post in posts_data:\n",
    "    print(post)\n"
   ]
  }
 ],
 "metadata": {
  "kernelspec": {
   "display_name": "Python 3",
   "language": "python",
   "name": "python3"
  },
  "language_info": {
   "codemirror_mode": {
    "name": "ipython",
    "version": 3
   },
   "file_extension": ".py",
   "mimetype": "text/x-python",
   "name": "python",
   "nbconvert_exporter": "python",
   "pygments_lexer": "ipython3",
   "version": "3.10.7"
  }
 },
 "nbformat": 4,
 "nbformat_minor": 2
}
